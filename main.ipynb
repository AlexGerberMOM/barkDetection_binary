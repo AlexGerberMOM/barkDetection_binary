{
 "cells": [
  {
   "cell_type": "markdown",
   "id": "2c09a364",
   "metadata": {},
   "source": [
    "ИМПОРТИРОВАНИЕ НЕОБХОДИМЫХ ДЛЯ РАБОТЫ БИБЛИОТЕК"
   ]
  },
  {
   "cell_type": "code",
   "execution_count": 18,
   "id": "b32a4f5c",
   "metadata": {},
   "outputs": [],
   "source": [
    "import glob\n",
    "import cv2\n",
    "import re\n",
    "import numpy as np\n",
    "from PIL import Image\n",
    "from pillow_heif import register_heif_opener\n",
    "import time\n",
    "import datetime\n",
    "\n",
    "register_heif_opener()\n",
    "\n",
    "path = r'images/heic'\n",
    "extension = path.split('/')[-1]\n",
    "filenames = glob.glob(f'{path}/*.{extension}')\n",
    "images_dict = {}"
   ]
  },
  {
   "cell_type": "markdown",
   "id": "5dc90c78",
   "metadata": {},
   "source": [
    "ПРОЦЕДУРА ПОИСКА КОНТУРА ПО ЗАДАННЫМ ПАРАМЕТРАМ:\n",
    " - ВХОД: source image, kernel size, thresh value, erosian value, iterations, channel number, method\n",
    " - ВЫХОД: thresh, cnt, contour"
   ]
  },
  {
   "cell_type": "code",
   "execution_count": 19,
   "id": "24c8f7aa",
   "metadata": {},
   "outputs": [],
   "source": [
    "def finder(res_image, kernel, thr, er, iter, channel, method):\n",
    "    res_image = cv2.blur(res_image, (kernel, kernel))\n",
    "    _, thresh = cv2.threshold(res_image[:,:,channel], thr, 255, method)\n",
    "    thresh = cv2.erode(thresh, np.ones((er, er), np.uint8), iterations=iter)\n",
    "    contour, _ = cv2.findContours(thresh, cv2.RETR_EXTERNAL, cv2.CHAIN_APPROX_SIMPLE)\n",
    "\n",
    "    cnt = sorted(contour, key=cv2.contourArea)[-1]\n",
    "\n",
    "    return thresh, cnt, contour"
   ]
  },
  {
   "cell_type": "markdown",
   "id": "694927d2",
   "metadata": {},
   "source": [
    "ЗАГРУЗКА ИЗОБРАЖЕНИЙ, ИЗМЕНЕНИЕ РАЗРЕШЕНИЯ ЗАГРУЖЕННЫХ ИЗОБРАЖЕНИЙ"
   ]
  },
  {
   "cell_type": "code",
   "execution_count": 20,
   "id": "d8868616",
   "metadata": {},
   "outputs": [],
   "source": [
    "start = time.time()\n",
    "\n",
    "for filename in filenames:\n",
    "\n",
    "    img = np.asanyarray(Image.open(filename))\n",
    "    assert img is not None, 'file could not be read'\n",
    "\n",
    "    h, w = img.shape[:2]\n",
    "    k = h / w\n",
    "    s = int(h / 8)    \n",
    "    image = cv2.resize(img.copy(), (int(s / k), s), interpolation=cv2.INTER_CUBIC)\n",
    "\n",
    "    images_dict[filename] = image\n",
    "\n",
    "interim = time.time()"
   ]
  },
  {
   "cell_type": "markdown",
   "id": "d8ae1ba8",
   "metadata": {},
   "source": [
    "ПОИСК КОНТУРОВ С ОТРИСОВКОЙ НА ИСХОДНОМ ИЗОБРАЖЕНИИ"
   ]
  },
  {
   "cell_type": "code",
   "execution_count": null,
   "id": "f4d88a2d",
   "metadata": {},
   "outputs": [],
   "source": [
    "for key, value in images_dict.items():\n",
    "    thresh, cnt, c = finder(value, 5, 121.5, 1, 3, 1, cv2.THRESH_BINARY_INV)\n",
    "    mask = np.zeros(value.shape[:2], np.uint8)\n",
    "\n",
    "    M = cv2.drawContours(mask.copy(), [cnt], -1, (255,255,255), -1)\n",
    "\n",
    "    masked = cv2.subtract(cv2.bitwise_and(value, value, mask = M), 35)\n",
    "\n",
    "    thresh_1, cnt_1, cnts = finder(masked, 3, 0.8, 3, 3, 1, cv2.THRESH_BINARY)\n",
    "\n",
    "    cv2.drawContours(value, [cnt], -1, (0, 255, 0), 1)\n",
    "    cv2.drawContours(value, [cnt_1], -1, (0, 0, 255), 1)\n",
    "\n",
    "    c = cv2.contourArea(cnt)\n",
    "    c_1 = cv2.contourArea(cnt_1)\n",
    "    bark = np.round(((c - c_1) / c) * 100, 2)\n",
    "\n",
    "    cv2.putText(value, f'Bark area = {bark}%', (20, value.shape[:2][0] - 40), cv2.FONT_HERSHEY_SIMPLEX, (s / 600), (255, 0, 0), int(round(s / 300)))\n",
    "    file_number = re.findall(r'\\d+', key)[0]\n",
    "    cv2.imwrite(f'images/experiment/IMG_{file_number}.png', value[:,:,::-1])\n",
    "end = time.time()"
   ]
  },
  {
   "cell_type": "markdown",
   "id": "954da463",
   "metadata": {},
   "source": [
    "ВЫВОД РЕЗУЛЬТАТОВ РАБОТЫ ПРОГРАММЫ В КОНСОЛЬ"
   ]
  },
  {
   "cell_type": "code",
   "execution_count": 39,
   "id": "3ebf6557",
   "metadata": {},
   "outputs": [
    {
     "name": "stdout",
     "output_type": "stream",
     "text": [
      "Total program execution time:\t\t\t0:00:22\n",
      "Time for reading and preprocessing images:\t0:00:21\n",
      "Time for processing images:\t\t\t0:00:01\n",
      "Number of images processed:\t\t\t45\n",
      "The resulting images are saved to the folder 'Experiment'\n"
     ]
    }
   ],
   "source": [
    "t = str(datetime.timedelta(seconds = (end - start).__round__(0)))\n",
    "t_1 = str(datetime.timedelta(seconds = (interim - start).__round__(0)))\n",
    "t_2 = str(datetime.timedelta(seconds = (end - interim).__round__(0)))\n",
    "print(f'Total program execution time:\\t\\t\\t{t}\\nTime for reading and preprocessing images:\\t{t_1}\\nTime for processing images:\\t\\t\\t{t_2}')\n",
    "print(f'Number of images processed:\\t\\t\\t{len(filenames)}')\n",
    "print('The resulting images are saved to the folder \\'Experiment\\'')"
   ]
  }
 ],
 "metadata": {
  "kernelspec": {
   "display_name": "Python 3",
   "language": "python",
   "name": "python3"
  },
  "language_info": {
   "codemirror_mode": {
    "name": "ipython",
    "version": 3
   },
   "file_extension": ".py",
   "mimetype": "text/x-python",
   "name": "python",
   "nbconvert_exporter": "python",
   "pygments_lexer": "ipython3",
   "version": "3.12.6"
  }
 },
 "nbformat": 4,
 "nbformat_minor": 5
}
